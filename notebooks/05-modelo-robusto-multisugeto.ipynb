{
 "cells": [
  {
   "cell_type": "code",
   "execution_count": 8,
   "id": "27828961-78c3-47f6-ac31-0d56d1c0b9b7",
   "metadata": {},
   "outputs": [
    {
     "name": "stdout",
     "output_type": "stream",
     "text": [
      "Muestras del Sujeto 1: (104804, 17)\n",
      "Muestras del Sujeto 2: (118403, 17)\n",
      "\n",
      "¡DataFrames fusionados exitosamente!\n",
      "Total de muestras combinadas: (223207, 17)\n",
      "\n",
      "Conteo de clases en el DataFrame combinado:\n",
      "Clase\n",
      "basal        61439\n",
      "reposo       38896\n",
      "adelante     30718\n",
      "atras        30718\n",
      "derecha      30718\n",
      "izquierda    30718\n",
      "Name: count, dtype: int64\n"
     ]
    }
   ],
   "source": [
    "import pandas as pd\n",
    "\n",
    "# --- Paso 1: Cargar los archivos de características de cada sujeto ---\n",
    "path_processed = '../data/processed/'\n",
    "\n",
    "# Asumiendo que tus archivos se llaman así\n",
    "df_sujeto1 = pd.read_parquet(path_processed + 'final_feature_data.parquet')\n",
    "df_sujeto2 = pd.read_parquet(path_processed + 'final_feature_data_sujeto_03.parquet')\n",
    "\n",
    "print(f\"Muestras del Sujeto 1: {df_sujeto1.shape}\")\n",
    "print(f\"Muestras del Sujeto 2: {df_sujeto2.shape}\")\n",
    "\n",
    "# --- Paso 2: Crear una lista con los DataFrames ---\n",
    "lista_de_dataframes = [df_sujeto1, df_sujeto2]\n",
    "\n",
    "# --- Paso 3: Fusionar (concatenar) la lista de DataFrames ---\n",
    "# ignore_index=True es clave para crear un nuevo índice limpio de 0 hasta el final\n",
    "df_combinado = pd.concat(lista_de_dataframes, ignore_index=True)\n",
    "\n",
    "# --- Paso 4: Verificar el resultado ---\n",
    "print(\"\\n¡DataFrames fusionados exitosamente!\")\n",
    "print(f\"Total de muestras combinadas: {df_combinado.shape}\")\n",
    "\n",
    "# Opcional: Revisa que las clases de ambos sujetos estén presentes\n",
    "print(\"\\nConteo de clases en el DataFrame combinado:\")\n",
    "print(df_combinado['Clase'].value_counts())"
   ]
  },
  {
   "cell_type": "code",
   "execution_count": 10,
   "id": "7f99a495-c825-4edf-9c5a-6b15302bd39b",
   "metadata": {},
   "outputs": [
    {
     "name": "stdout",
     "output_type": "stream",
     "text": [
      "Guardando el DataFrame de características en: ../data/processed/final_feature_datacombinado_0_3.parquet\n",
      "Forma del DataFrame a guardar: (223207, 17)\n",
      "\n",
      "¡Archivo de características para el sujeto 0 y 3 guardado exitosamente! ✅\n"
     ]
    }
   ],
   "source": [
    "# Asumo que la variable 'id_archivo' de la celda de carga de datos sigue disponible.\n",
    "# Su valor debería ser algo como \"_sujeto_02\"\n",
    "\n",
    "# 1. Construir el nombre del archivo final dinámicamente\n",
    "path_final = f'../data/processed/final_feature_datacombinado_0_3.parquet'\n",
    "\n",
    "print(f\"Guardando el DataFrame de características en: {path_final}\")\n",
    "# Asegúrate de usar el nombre correcto de tu DataFrame final y limpio\n",
    "print(f\"Forma del DataFrame a guardar: {df_combinado.shape}\")\n",
    "\n",
    "# 2. Guardar en formato Parquet\n",
    "df_combinado.to_parquet(path_final)\n",
    "\n",
    "print(f\"\\n¡Archivo de características para el sujeto 0 y 3 guardado exitosamente! ✅\")"
   ]
  },
  {
   "cell_type": "code",
   "execution_count": null,
   "id": "4c618019-2015-4f6a-9695-caca21fe2b3a",
   "metadata": {},
   "outputs": [],
   "source": []
  }
 ],
 "metadata": {
  "kernelspec": {
   "display_name": "Python 3 (ipykernel)",
   "language": "python",
   "name": "python3"
  },
  "language_info": {
   "codemirror_mode": {
    "name": "ipython",
    "version": 3
   },
   "file_extension": ".py",
   "mimetype": "text/x-python",
   "name": "python",
   "nbconvert_exporter": "python",
   "pygments_lexer": "ipython3",
   "version": "3.13.2"
  }
 },
 "nbformat": 4,
 "nbformat_minor": 5
}
