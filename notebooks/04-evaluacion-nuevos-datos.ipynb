{
 "cells": [
  {
   "cell_type": "markdown",
   "id": "0de84eed",
   "metadata": {},
   "source": [
    "# Evaluación del modelo con nuevos datos\n",
    "Este notebook permite cargar el modelo entrenado y probarlo con datos nuevos que nunca ha visto."
   ]
  },
  {
   "cell_type": "code",
   "execution_count": 51,
   "id": "25aeabd2",
   "metadata": {},
   "outputs": [],
   "source": [
    "# 1. Importar librerías necesarias\n",
    "import pandas as pd\n",
    "import numpy as np\n",
    "import joblib\n",
    "from sklearn.metrics import accuracy_score, confusion_matrix, classification_report\n",
    "import matplotlib.pyplot as plt\n",
    "import seaborn as sns"
   ]
  },
  {
   "cell_type": "code",
   "execution_count": 58,
   "id": "52c93c3b",
   "metadata": {},
   "outputs": [
    {
     "name": "stdout",
     "output_type": "stream",
     "text": [
      "Modelo cargado correctamente\n"
     ]
    }
   ],
   "source": [
    "# 2. Cargar el modelo entrenado\n",
    "modelo = joblib.load('../models/DecisionTreeClassifier_emg_v3_entropy.pkl')\n",
    "print('Modelo cargado correctamente')"
   ]
  },
  {
   "cell_type": "markdown",
   "id": "ab0f4acd",
   "metadata": {},
   "source": [
    "## Cargar y preparar los nuevos datos\n",
    "Reemplaza la ruta y el nombre del archivo por el de tus nuevos datos."
   ]
  },
  {
   "cell_type": "code",
   "execution_count": 59,
   "id": "7b098080",
   "metadata": {},
   "outputs": [
    {
     "name": "stdout",
     "output_type": "stream",
     "text": [
      "1          basal\n",
      "2          basal\n",
      "3          basal\n",
      "4          basal\n",
      "5          basal\n",
      "           ...  \n",
      "118404    reposo\n",
      "118405    reposo\n",
      "118406    reposo\n",
      "118407    reposo\n",
      "118408    reposo\n",
      "Name: Clase, Length: 118403, dtype: object\n"
     ]
    }
   ],
   "source": [
    "# 3. Cargar nuevos datos\n",
    "df_nuevos = pd.read_parquet('../data/processed/final_feature_data_sujeto_02.parquet')\n",
    "X_nuevos = df_nuevos.drop('Clase', axis=1)\n",
    "y_nuevos = df_nuevos['Clase']\n",
    "print(y_nuevos)"
   ]
  },
  {
   "cell_type": "markdown",
   "id": "e42b7800",
   "metadata": {},
   "source": [
    "## Realizar predicciones y evaluar el desempeño"
   ]
  },
  {
   "cell_type": "code",
   "execution_count": 60,
   "id": "4dde6057-de71-4696-a83d-93223cf5a054",
   "metadata": {},
   "outputs": [
    {
     "name": "stdout",
     "output_type": "stream",
     "text": [
      "\n",
      "Datos nuevos listos para la evaluación.\n"
     ]
    },
    {
     "data": {
      "text/html": [
       "<div>\n",
       "<style scoped>\n",
       "    .dataframe tbody tr th:only-of-type {\n",
       "        vertical-align: middle;\n",
       "    }\n",
       "\n",
       "    .dataframe tbody tr th {\n",
       "        vertical-align: top;\n",
       "    }\n",
       "\n",
       "    .dataframe thead th {\n",
       "        text-align: right;\n",
       "    }\n",
       "</style>\n",
       "<table border=\"1\" class=\"dataframe\">\n",
       "  <thead>\n",
       "    <tr style=\"text-align: right;\">\n",
       "      <th></th>\n",
       "      <th>RMS_EXG Channel 0</th>\n",
       "      <th>WL_EXG Channel 0</th>\n",
       "      <th>RMS_EXG Channel 1</th>\n",
       "      <th>WL_EXG Channel 1</th>\n",
       "      <th>RMS_EXG Channel 2</th>\n",
       "      <th>WL_EXG Channel 2</th>\n",
       "      <th>RMS_EXG Channel 3</th>\n",
       "      <th>WL_EXG Channel 3</th>\n",
       "      <th>RMS_EXG Channel 4</th>\n",
       "      <th>WL_EXG Channel 4</th>\n",
       "      <th>RMS_EXG Channel 5</th>\n",
       "      <th>WL_EXG Channel 5</th>\n",
       "      <th>RMS_EXG Channel 6</th>\n",
       "      <th>WL_EXG Channel 6</th>\n",
       "      <th>RMS_EXG Channel 7</th>\n",
       "      <th>WL_EXG Channel 7</th>\n",
       "    </tr>\n",
       "  </thead>\n",
       "  <tbody>\n",
       "    <tr>\n",
       "      <th>1</th>\n",
       "      <td>1.681798</td>\n",
       "      <td>0.015997</td>\n",
       "      <td>2.426370</td>\n",
       "      <td>0.010988</td>\n",
       "      <td>2.830325</td>\n",
       "      <td>0.003710</td>\n",
       "      <td>3.424405</td>\n",
       "      <td>0.086800</td>\n",
       "      <td>5.703254</td>\n",
       "      <td>0.825522</td>\n",
       "      <td>2.036158</td>\n",
       "      <td>0.064469</td>\n",
       "      <td>5.242950</td>\n",
       "      <td>0.011805</td>\n",
       "      <td>3.277555</td>\n",
       "      <td>0.010444</td>\n",
       "    </tr>\n",
       "    <tr>\n",
       "      <th>2</th>\n",
       "      <td>1.697077</td>\n",
       "      <td>0.069443</td>\n",
       "      <td>2.450020</td>\n",
       "      <td>0.086765</td>\n",
       "      <td>2.793813</td>\n",
       "      <td>0.112861</td>\n",
       "      <td>3.368360</td>\n",
       "      <td>0.214154</td>\n",
       "      <td>5.702092</td>\n",
       "      <td>1.226814</td>\n",
       "      <td>1.975481</td>\n",
       "      <td>0.219977</td>\n",
       "      <td>5.213724</td>\n",
       "      <td>0.094072</td>\n",
       "      <td>3.293612</td>\n",
       "      <td>0.053165</td>\n",
       "    </tr>\n",
       "    <tr>\n",
       "      <th>3</th>\n",
       "      <td>1.712990</td>\n",
       "      <td>0.102084</td>\n",
       "      <td>2.470566</td>\n",
       "      <td>0.121323</td>\n",
       "      <td>2.748542</td>\n",
       "      <td>0.224160</td>\n",
       "      <td>3.349339</td>\n",
       "      <td>0.252396</td>\n",
       "      <td>5.506567</td>\n",
       "      <td>2.053436</td>\n",
       "      <td>1.936887</td>\n",
       "      <td>0.251947</td>\n",
       "      <td>5.180929</td>\n",
       "      <td>0.167578</td>\n",
       "      <td>3.306846</td>\n",
       "      <td>0.073904</td>\n",
       "    </tr>\n",
       "    <tr>\n",
       "      <th>4</th>\n",
       "      <td>1.713758</td>\n",
       "      <td>0.145128</td>\n",
       "      <td>2.469203</td>\n",
       "      <td>0.188788</td>\n",
       "      <td>2.742490</td>\n",
       "      <td>0.334287</td>\n",
       "      <td>3.365143</td>\n",
       "      <td>0.388406</td>\n",
       "      <td>5.435332</td>\n",
       "      <td>2.320823</td>\n",
       "      <td>1.947780</td>\n",
       "      <td>0.426510</td>\n",
       "      <td>5.170970</td>\n",
       "      <td>0.217250</td>\n",
       "      <td>3.305966</td>\n",
       "      <td>0.117691</td>\n",
       "    </tr>\n",
       "    <tr>\n",
       "      <th>5</th>\n",
       "      <td>1.713599</td>\n",
       "      <td>0.149150</td>\n",
       "      <td>2.467432</td>\n",
       "      <td>0.193969</td>\n",
       "      <td>2.740779</td>\n",
       "      <td>0.348346</td>\n",
       "      <td>3.372923</td>\n",
       "      <td>0.404474</td>\n",
       "      <td>5.517601</td>\n",
       "      <td>3.092089</td>\n",
       "      <td>1.959197</td>\n",
       "      <td>0.451070</td>\n",
       "      <td>5.165982</td>\n",
       "      <td>0.227273</td>\n",
       "      <td>3.304081</td>\n",
       "      <td>0.125501</td>\n",
       "    </tr>\n",
       "  </tbody>\n",
       "</table>\n",
       "</div>"
      ],
      "text/plain": [
       "   RMS_EXG Channel 0  WL_EXG Channel 0  RMS_EXG Channel 1  WL_EXG Channel 1  \\\n",
       "1           1.681798          0.015997           2.426370          0.010988   \n",
       "2           1.697077          0.069443           2.450020          0.086765   \n",
       "3           1.712990          0.102084           2.470566          0.121323   \n",
       "4           1.713758          0.145128           2.469203          0.188788   \n",
       "5           1.713599          0.149150           2.467432          0.193969   \n",
       "\n",
       "   RMS_EXG Channel 2  WL_EXG Channel 2  RMS_EXG Channel 3  WL_EXG Channel 3  \\\n",
       "1           2.830325          0.003710           3.424405          0.086800   \n",
       "2           2.793813          0.112861           3.368360          0.214154   \n",
       "3           2.748542          0.224160           3.349339          0.252396   \n",
       "4           2.742490          0.334287           3.365143          0.388406   \n",
       "5           2.740779          0.348346           3.372923          0.404474   \n",
       "\n",
       "   RMS_EXG Channel 4  WL_EXG Channel 4  RMS_EXG Channel 5  WL_EXG Channel 5  \\\n",
       "1           5.703254          0.825522           2.036158          0.064469   \n",
       "2           5.702092          1.226814           1.975481          0.219977   \n",
       "3           5.506567          2.053436           1.936887          0.251947   \n",
       "4           5.435332          2.320823           1.947780          0.426510   \n",
       "5           5.517601          3.092089           1.959197          0.451070   \n",
       "\n",
       "   RMS_EXG Channel 6  WL_EXG Channel 6  RMS_EXG Channel 7  WL_EXG Channel 7  \n",
       "1           5.242950          0.011805           3.277555          0.010444  \n",
       "2           5.213724          0.094072           3.293612          0.053165  \n",
       "3           5.180929          0.167578           3.306846          0.073904  \n",
       "4           5.170970          0.217250           3.305966          0.117691  \n",
       "5           5.165982          0.227273           3.304081          0.125501  "
      ]
     },
     "metadata": {},
     "output_type": "display_data"
    }
   ],
   "source": [
    "# 3.4 Codificar las etiquetas de texto a números para poder comparar\n",
    "# ¡Importante! El modelo devolverá números, así que necesitamos la \"verdad\" también en números.\n",
    "from sklearn.preprocessing import LabelEncoder\n",
    "label_encoder = LabelEncoder()\n",
    "\n",
    "# Como las clases son las mismas que en el entrenamiento, podemos ajustar el encoder aquí\n",
    "y_verdadero_numeros = label_encoder.fit_transform(y_nuevos)\n",
    "\n",
    "print(\"\\nDatos nuevos listos para la evaluación.\")\n",
    "display(X_nuevos.head())"
   ]
  },
  {
   "cell_type": "code",
   "execution_count": 61,
   "id": "28052f05",
   "metadata": {},
   "outputs": [
    {
     "name": "stdout",
     "output_type": "stream",
     "text": [
      "Accuracy: 0.017355979155933548\n",
      "Reporte de clasificación:\n",
      "              precision    recall  f1-score   support\n",
      "\n",
      "    adelante       0.96      0.06      0.11     15359\n",
      "       atras       0.21      0.01      0.01     15359\n",
      "       basal       0.00      0.00      0.00     30719\n",
      "     derecha       0.03      0.01      0.02     15359\n",
      "   izquierda       0.00      0.01      0.00     15359\n",
      "      reposo       0.03      0.03      0.03     26248\n",
      "\n",
      "    accuracy                           0.02    118403\n",
      "   macro avg       0.20      0.02      0.03    118403\n",
      "weighted avg       0.16      0.02      0.02    118403\n",
      "\n"
     ]
    }
   ],
   "source": [
    "# 4. Predecir y evaluar\n",
    "y_pred_nuevos = modelo.predict(X_nuevos)\n",
    "print('Accuracy:', accuracy_score(y_nuevos , y_pred_nuevos))\n",
    "print('Reporte de clasificación:')\n",
    "print(classification_report(y_nuevos , y_pred_nuevos))"
   ]
  },
  {
   "cell_type": "code",
   "execution_count": 62,
   "id": "953f54c1",
   "metadata": {},
   "outputs": [
    {
     "data": {
      "image/png": "[encoded data removed]",
      "text/plain": [
       "<Figure size 800x600 with 2 Axes>"
      ]
     },
     "metadata": {},
     "output_type": "display_data"
    }
   ],
   "source": [
    "# 5. Matriz de confusión\n",
    "cm_nuevos = confusion_matrix(y_nuevos, y_pred_nuevos)\n",
    "plt.figure(figsize=(8,6))\n",
    "sns.heatmap(cm_nuevos, annot=True, fmt='d', cmap='Purples')\n",
    "plt.xlabel('Predicción')\n",
    "plt.ylabel('Real')\n",
    "plt.title('Matriz de confusión (nuevos datos)')\n",
    "plt.show()"
   ]
  },
  {
   "cell_type": "code",
   "execution_count": null,
   "id": "bc12246b-4d65-42a9-8123-9c78380a658b",
   "metadata": {},
   "outputs": [],
   "source": []
  }
 ],
 "metadata": {
  "kernelspec": {
   "display_name": "Python 3 (ipykernel)",
   "language": "python",
   "name": "python3"
  },
  "language_info": {
   "codemirror_mode": {
    "name": "ipython",
    "version": 3
   },
   "file_extension": ".py",
   "mimetype": "text/x-python",
   "name": "python",
   "nbconvert_exporter": "python",
   "pygments_lexer": "ipython3",
   "version": "3.13.2"
  }
 },
 "nbformat": 4,
 "nbformat_minor": 5
}
