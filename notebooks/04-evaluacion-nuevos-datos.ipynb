{
 "cells": [
  {
   "cell_type": "markdown",
   "id": "0de84eed",
   "metadata": {},
   "source": [
    "# Evaluación del modelo con nuevos datos\n",
    "Este notebook permite cargar el modelo entrenado y probarlo con datos nuevos que nunca ha visto."
   ]
  },
  {
   "cell_type": "code",
   "execution_count": 1,
   "id": "25aeabd2",
   "metadata": {},
   "outputs": [],
   "source": [
    "# 1. Importar librerías necesarias\n",
    "import pandas as pd\n",
    "import numpy as np\n",
    "import joblib\n",
    "from sklearn.metrics import accuracy_score, confusion_matrix, classification_report\n",
    "import matplotlib.pyplot as plt\n",
    "import seaborn as sns"
   ]
  },
  {
   "cell_type": "code",
   "execution_count": 2,
   "id": "52c93c3b",
   "metadata": {},
   "outputs": [
    {
     "name": "stdout",
     "output_type": "stream",
     "text": [
      "Modelo cargado correctamente\n"
     ]
    }
   ],
   "source": [
    "# 2. Cargar el modelo entrenado\n",
    "modelo = joblib.load('../models/random_forest_emg.pkl')\n",
    "print('Modelo cargado correctamente')"
   ]
  },
  {
   "cell_type": "markdown",
   "id": "ab0f4acd",
   "metadata": {},
   "source": [
    "## Cargar y preparar los nuevos datos\n",
    "Reemplaza la ruta y el nombre del archivo por el de tus nuevos datos."
   ]
  },
  {
   "cell_type": "code",
   "execution_count": 3,
   "id": "7b098080",
   "metadata": {},
   "outputs": [],
   "source": [
    "# 3. Cargar nuevos datos\n",
    "df_nuevos = pd.read_parquet('../data/processed/final_feature_data_sujeto_03.parquet')\n",
    "X_nuevos = df_nuevos.drop('Clase', axis=1)\n",
    "y_nuevos = df_nuevos['Clase']"
   ]
  },
  {
   "cell_type": "markdown",
   "id": "e42b7800",
   "metadata": {},
   "source": [
    "## Realizar predicciones y evaluar el desempeño"
   ]
  },
  {
   "cell_type": "code",
   "execution_count": 4,
   "id": "4dde6057-de71-4696-a83d-93223cf5a054",
   "metadata": {},
   "outputs": [
    {
     "name": "stdout",
     "output_type": "stream",
     "text": [
      "\n",
      "Datos nuevos listos para la evaluación.\n"
     ]
    },
    {
     "data": {
      "text/html": [
       "<div>\n",
       "<style scoped>\n",
       "    .dataframe tbody tr th:only-of-type {\n",
       "        vertical-align: middle;\n",
       "    }\n",
       "\n",
       "    .dataframe tbody tr th {\n",
       "        vertical-align: top;\n",
       "    }\n",
       "\n",
       "    .dataframe thead th {\n",
       "        text-align: right;\n",
       "    }\n",
       "</style>\n",
       "<table border=\"1\" class=\"dataframe\">\n",
       "  <thead>\n",
       "    <tr style=\"text-align: right;\">\n",
       "      <th></th>\n",
       "      <th>RMS_EXG Channel 0</th>\n",
       "      <th>WL_EXG Channel 0</th>\n",
       "      <th>RMS_EXG Channel 1</th>\n",
       "      <th>WL_EXG Channel 1</th>\n",
       "      <th>RMS_EXG Channel 2</th>\n",
       "      <th>WL_EXG Channel 2</th>\n",
       "      <th>RMS_EXG Channel 3</th>\n",
       "      <th>WL_EXG Channel 3</th>\n",
       "      <th>RMS_EXG Channel 4</th>\n",
       "      <th>WL_EXG Channel 4</th>\n",
       "      <th>RMS_EXG Channel 5</th>\n",
       "      <th>WL_EXG Channel 5</th>\n",
       "      <th>RMS_EXG Channel 6</th>\n",
       "      <th>WL_EXG Channel 6</th>\n",
       "      <th>RMS_EXG Channel 7</th>\n",
       "      <th>WL_EXG Channel 7</th>\n",
       "    </tr>\n",
       "  </thead>\n",
       "  <tbody>\n",
       "    <tr>\n",
       "      <th>1</th>\n",
       "      <td>0.477403</td>\n",
       "      <td>0.166017</td>\n",
       "      <td>1.787390</td>\n",
       "      <td>0.030645</td>\n",
       "      <td>1.274388</td>\n",
       "      <td>0.196248</td>\n",
       "      <td>1.798903</td>\n",
       "      <td>0.021309</td>\n",
       "      <td>1.760000</td>\n",
       "      <td>0.214317</td>\n",
       "      <td>1.807076</td>\n",
       "      <td>0.170841</td>\n",
       "      <td>1.488721</td>\n",
       "      <td>0.038703</td>\n",
       "      <td>1.701189</td>\n",
       "      <td>0.013358</td>\n",
       "    </tr>\n",
       "    <tr>\n",
       "      <th>2</th>\n",
       "      <td>0.417499</td>\n",
       "      <td>0.460141</td>\n",
       "      <td>1.775970</td>\n",
       "      <td>0.080385</td>\n",
       "      <td>1.288570</td>\n",
       "      <td>0.248499</td>\n",
       "      <td>1.789074</td>\n",
       "      <td>0.040272</td>\n",
       "      <td>1.727356</td>\n",
       "      <td>0.224884</td>\n",
       "      <td>1.737128</td>\n",
       "      <td>0.473302</td>\n",
       "      <td>1.487258</td>\n",
       "      <td>0.062324</td>\n",
       "      <td>1.710072</td>\n",
       "      <td>0.046561</td>\n",
       "    </tr>\n",
       "    <tr>\n",
       "      <th>3</th>\n",
       "      <td>0.365154</td>\n",
       "      <td>0.617007</td>\n",
       "      <td>1.762906</td>\n",
       "      <td>0.110175</td>\n",
       "      <td>1.252969</td>\n",
       "      <td>0.425468</td>\n",
       "      <td>1.788176</td>\n",
       "      <td>0.056496</td>\n",
       "      <td>1.757744</td>\n",
       "      <td>0.410650</td>\n",
       "      <td>1.664513</td>\n",
       "      <td>0.636684</td>\n",
       "      <td>1.478468</td>\n",
       "      <td>0.094868</td>\n",
       "      <td>1.719996</td>\n",
       "      <td>0.068289</td>\n",
       "    </tr>\n",
       "    <tr>\n",
       "      <th>4</th>\n",
       "      <td>0.344218</td>\n",
       "      <td>0.757926</td>\n",
       "      <td>1.759496</td>\n",
       "      <td>0.132848</td>\n",
       "      <td>1.231683</td>\n",
       "      <td>0.428539</td>\n",
       "      <td>1.793491</td>\n",
       "      <td>0.085614</td>\n",
       "      <td>1.782207</td>\n",
       "      <td>0.441615</td>\n",
       "      <td>1.647050</td>\n",
       "      <td>0.787313</td>\n",
       "      <td>1.476666</td>\n",
       "      <td>0.112522</td>\n",
       "      <td>1.722352</td>\n",
       "      <td>0.085972</td>\n",
       "    </tr>\n",
       "    <tr>\n",
       "      <th>5</th>\n",
       "      <td>0.331372</td>\n",
       "      <td>0.772567</td>\n",
       "      <td>1.758975</td>\n",
       "      <td>0.143426</td>\n",
       "      <td>1.242027</td>\n",
       "      <td>0.578466</td>\n",
       "      <td>1.795587</td>\n",
       "      <td>0.094180</td>\n",
       "      <td>1.770546</td>\n",
       "      <td>0.607439</td>\n",
       "      <td>1.642655</td>\n",
       "      <td>0.832550</td>\n",
       "      <td>1.479052</td>\n",
       "      <td>0.134008</td>\n",
       "      <td>1.722540</td>\n",
       "      <td>0.094241</td>\n",
       "    </tr>\n",
       "  </tbody>\n",
       "</table>\n",
       "</div>"
      ],
      "text/plain": [
       "   RMS_EXG Channel 0  WL_EXG Channel 0  RMS_EXG Channel 1  WL_EXG Channel 1  \\\n",
       "1           0.477403          0.166017           1.787390          0.030645   \n",
       "2           0.417499          0.460141           1.775970          0.080385   \n",
       "3           0.365154          0.617007           1.762906          0.110175   \n",
       "4           0.344218          0.757926           1.759496          0.132848   \n",
       "5           0.331372          0.772567           1.758975          0.143426   \n",
       "\n",
       "   RMS_EXG Channel 2  WL_EXG Channel 2  RMS_EXG Channel 3  WL_EXG Channel 3  \\\n",
       "1           1.274388          0.196248           1.798903          0.021309   \n",
       "2           1.288570          0.248499           1.789074          0.040272   \n",
       "3           1.252969          0.425468           1.788176          0.056496   \n",
       "4           1.231683          0.428539           1.793491          0.085614   \n",
       "5           1.242027          0.578466           1.795587          0.094180   \n",
       "\n",
       "   RMS_EXG Channel 4  WL_EXG Channel 4  RMS_EXG Channel 5  WL_EXG Channel 5  \\\n",
       "1           1.760000          0.214317           1.807076          0.170841   \n",
       "2           1.727356          0.224884           1.737128          0.473302   \n",
       "3           1.757744          0.410650           1.664513          0.636684   \n",
       "4           1.782207          0.441615           1.647050          0.787313   \n",
       "5           1.770546          0.607439           1.642655          0.832550   \n",
       "\n",
       "   RMS_EXG Channel 6  WL_EXG Channel 6  RMS_EXG Channel 7  WL_EXG Channel 7  \n",
       "1           1.488721          0.038703           1.701189          0.013358  \n",
       "2           1.487258          0.062324           1.710072          0.046561  \n",
       "3           1.478468          0.094868           1.719996          0.068289  \n",
       "4           1.476666          0.112522           1.722352          0.085972  \n",
       "5           1.479052          0.134008           1.722540          0.094241  "
      ]
     },
     "metadata": {},
     "output_type": "display_data"
    }
   ],
   "source": [
    "# 3.4 Codificar las etiquetas de texto a números para poder comparar\n",
    "# ¡Importante! El modelo devolverá números, así que necesitamos la \"verdad\" también en números.\n",
    "from sklearn.preprocessing import LabelEncoder\n",
    "label_encoder = LabelEncoder()\n",
    "\n",
    "# Como las clases son las mismas que en el entrenamiento, podemos ajustar el encoder aquí\n",
    "y_verdadero_numeros = label_encoder.fit_transform(y_nuevos)\n",
    "\n",
    "print(\"\\nDatos nuevos listos para la evaluación.\")\n",
    "display(X_nuevos.head())"
   ]
  },
  {
   "cell_type": "code",
   "execution_count": 5,
   "id": "28052f05",
   "metadata": {},
   "outputs": [
    {
     "name": "stdout",
     "output_type": "stream",
     "text": [
      "Accuracy: 0.3101872501577951\n",
      "Reporte de clasificación:\n",
      "              precision    recall  f1-score   support\n",
      "\n",
      "    adelante       0.00      0.00      0.00     15359\n",
      "       atras       0.40      0.00      0.00     15359\n",
      "       basal       0.56      0.89      0.68     30719\n",
      "     derecha       0.00      0.00      0.00     15359\n",
      "   izquierda       0.82      0.62      0.71     15359\n",
      "      reposo       0.00      0.00      0.00     26670\n",
      "\n",
      "    accuracy                           0.31    118825\n",
      "   macro avg       0.30      0.25      0.23    118825\n",
      "weighted avg       0.30      0.31      0.27    118825\n",
      "\n"
     ]
    }
   ],
   "source": [
    "# 4. Predecir y evaluar\n",
    "y_pred_nuevos = modelo.predict(X_nuevos)\n",
    "print('Accuracy:', accuracy_score(y_nuevos, y_pred_nuevos))\n",
    "print('Reporte de clasificación:')\n",
    "print(classification_report(y_nuevos, y_pred_nuevos))"
   ]
  },
  {
   "cell_type": "code",
   "execution_count": 6,
   "id": "953f54c1",
   "metadata": {},
   "outputs": [
    {
     "data": {
      "image/png": "[encoded data removed]",
      "text/plain": [
       "<Figure size 800x600 with 2 Axes>"
      ]
     },
     "metadata": {},
     "output_type": "display_data"
    }
   ],
   "source": [
    "# 5. Matriz de confusión\n",
    "cm_nuevos = confusion_matrix(y_nuevos, y_pred_nuevos)\n",
    "plt.figure(figsize=(8,6))\n",
    "sns.heatmap(cm_nuevos, annot=True, fmt='d', cmap='Purples')\n",
    "plt.xlabel('Predicción')\n",
    "plt.ylabel('Real')\n",
    "plt.title('Matriz de confusión (nuevos datos)')\n",
    "plt.show()"
   ]
  },
  {
   "cell_type": "code",
   "execution_count": null,
   "id": "bc12246b-4d65-42a9-8123-9c78380a658b",
   "metadata": {},
   "outputs": [],
   "source": []
  }
 ],
 "metadata": {
  "kernelspec": {
   "display_name": "Python 3 (ipykernel)",
   "language": "python",
   "name": "python3"
  },
  "language_info": {
   "codemirror_mode": {
    "name": "ipython",
    "version": 3
   },
   "file_extension": ".py",
   "mimetype": "text/x-python",
   "name": "python",
   "nbconvert_exporter": "python",
   "pygments_lexer": "ipython3",
   "version": "3.13.2"
  }
 },
 "nbformat": 4,
 "nbformat_minor": 5
}
